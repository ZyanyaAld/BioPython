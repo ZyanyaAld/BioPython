{
 "cells": [
  {
   "cell_type": "markdown",
   "id": "2cbea75b",
   "metadata": {},
   "source": [
    "# Biopython\n",
    "\n",
    "\n"
   ]
  },
  {
   "cell_type": "markdown",
   "id": "ee4eb383",
   "metadata": {},
   "source": [
    "Clase 2\n",
    "\n",
    "-> Tiene atributos\n",
    "\n",
    "\n",
    "Herencias- > en cualquier POO\n",
    "Apartir de una clase padre generar hijas\n",
    "\n"
   ]
  },
  {
   "cell_type": "code",
   "execution_count": null,
   "id": "06a34afa",
   "metadata": {
    "vscode": {
     "languageId": "plaintext"
    }
   },
   "outputs": [],
   "source": []
  }
 ],
 "metadata": {
  "language_info": {
   "name": "python"
  }
 },
 "nbformat": 4,
 "nbformat_minor": 5
}
